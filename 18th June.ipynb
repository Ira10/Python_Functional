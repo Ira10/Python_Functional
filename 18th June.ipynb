{
 "cells": [
  {
   "cell_type": "code",
   "execution_count": 1,
   "id": "06b260c3-f3e1-43ee-8558-e9c59e3aa22e",
   "metadata": {},
   "outputs": [
    {
     "ename": "SyntaxError",
     "evalue": "invalid character '…' (U+2026) (2439379826.py, line 3)",
     "output_type": "error",
     "traceback": [
      "\u001b[0;36m  Cell \u001b[0;32mIn[1], line 3\u001b[0;36m\u001b[0m\n\u001b[0;31m    … \tpiggy_bank_balance = piggy_bank_balance - 10\u001b[0m\n\u001b[0m    ^\u001b[0m\n\u001b[0;31mSyntaxError\u001b[0m\u001b[0;31m:\u001b[0m invalid character '…' (U+2026)\n"
     ]
    }
   ],
   "source": [
    ">>> piggy_bank_balance = 100\n",
    ">>> while piggy_bank_balance > 0:\n",
    "… \tpiggy_bank_balance = piggy_bank_balance - 10\n",
    "… \tprint('Remaining Balance: ', piggy_bank_balance)\n",
    "…\n",
    ">>> print('You have spent all your saved money')\n",
    "Remaining Balance:\t90\n",
    "Remaining Balance:\t80\n",
    "Remaining Balance:\t70\n",
    "Remaining Balance:\t60\n",
    "Remaining Balance:\t50\n",
    "Remaining Balance:\t40\n",
    "Remaining Balance:\t30\n",
    "Remaining Balance:\t20\n",
    "Remaining Balance:\t10\n",
    "Remaining Balance:\t0\n",
    "You have spent all your saved money\n"
   ]
  },
  {
   "cell_type": "code",
   "execution_count": null,
   "id": "610457d1-0c37-421a-89cc-371a74a49b96",
   "metadata": {},
   "outputs": [],
   "source": []
  }
 ],
 "metadata": {
  "kernelspec": {
   "display_name": "Python 3 (ipykernel)",
   "language": "python",
   "name": "python3"
  },
  "language_info": {
   "codemirror_mode": {
    "name": "ipython",
    "version": 3
   },
   "file_extension": ".py",
   "mimetype": "text/x-python",
   "name": "python",
   "nbconvert_exporter": "python",
   "pygments_lexer": "ipython3",
   "version": "3.11.7"
  },
  "widgets": {
   "application/vnd.jupyter.widget-state+json": {
    "state": {},
    "version_major": 2,
    "version_minor": 0
   }
  }
 },
 "nbformat": 4,
 "nbformat_minor": 5
}
