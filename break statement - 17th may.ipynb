{
 "cells": [
  {
   "cell_type": "code",
   "execution_count": 1,
   "id": "5e686aa2-67bd-44f2-bf5e-b02183e89bb6",
   "metadata": {},
   "outputs": [
    {
     "name": "stdout",
     "output_type": "stream",
     "text": [
      "6\n",
      "s\n"
     ]
    }
   ],
   "source": [
    "n = 6\n",
    "\n",
    "while n < 10:\n",
    "    print(n)\n",
    "    break\n",
    "    n = n + 1\n",
    "print(\"s\")"
   ]
  },
  {
   "cell_type": "code",
   "execution_count": 2,
   "id": "b8480ff5-47e1-4b06-8a4b-6e79b1108d72",
   "metadata": {},
   "outputs": [
    {
     "name": "stdout",
     "output_type": "stream",
     "text": [
      "s\n"
     ]
    }
   ],
   "source": [
    "n = 6\n",
    "\n",
    "while n > 10:\n",
    "    print(n)\n",
    "    break\n",
    "    n = n + 1\n",
    "print(\"s\")"
   ]
  },
  {
   "cell_type": "markdown",
   "id": "41cd8ed2-60af-4687-b1a1-6e4b900f2aec",
   "metadata": {},
   "source": [
    "break is running only one time here upside"
   ]
  },
  {
   "cell_type": "code",
   "execution_count": 3,
   "id": "148b3db3-664c-4a6f-9d6f-f049d65c73b2",
   "metadata": {},
   "outputs": [
    {
     "name": "stdout",
     "output_type": "stream",
     "text": [
      "5\n"
     ]
    }
   ],
   "source": [
    "mysum = 0\n",
    "for i in range(5,11,2):\n",
    "    mysum += i\n",
    "    if mysum == 5:\n",
    "        break\n",
    "        mysum += 1\n",
    "print(mysum)"
   ]
  },
  {
   "cell_type": "code",
   "execution_count": 4,
   "id": "a25baae5-43a3-4689-981c-a52f53eb63ab",
   "metadata": {},
   "outputs": [
    {
     "name": "stdout",
     "output_type": "stream",
     "text": [
      "12\n"
     ]
    }
   ],
   "source": [
    "mysum = 0\n",
    "for i in range(5,11,2):\n",
    "    mysum += i\n",
    "    if mysum != 5:\n",
    "        break\n",
    "        mysum += 1\n",
    "print(mysum)"
   ]
  },
  {
   "cell_type": "code",
   "execution_count": 6,
   "id": "fad1c52f-8a04-4cf9-b534-ee805f12c59f",
   "metadata": {},
   "outputs": [
    {
     "data": {
      "text/plain": [
       "range(0, 5)"
      ]
     },
     "execution_count": 6,
     "metadata": {},
     "output_type": "execute_result"
    }
   ],
   "source": [
    "range(5)"
   ]
  },
  {
   "cell_type": "markdown",
   "id": "f64dc4da-10df-45c1-ae1d-7e2b7f4d460d",
   "metadata": {},
   "source": [
    "### Write code that loops a 'for' loop over some range and prints how many even numbers are in that range."
   ]
  },
  {
   "cell_type": "code",
   "execution_count": 19,
   "id": "e0d9dc0f-b2bd-4604-95bc-342306aa226e",
   "metadata": {},
   "outputs": [
    {
     "name": "stdout",
     "output_type": "stream",
     "text": [
      "Numbers of even numbers present here are 3\n"
     ]
    }
   ],
   "source": [
    "flag = 0\n",
    "for i in range(5):\n",
    "    a = i%2\n",
    "    if a == 0:\n",
    "        flag += 1\n",
    "print(f'Numbers of even numbers present here are {flag}')"
   ]
  },
  {
   "cell_type": "code",
   "execution_count": 22,
   "id": "caa75090-25cd-4a3d-aa7f-10d900683b3e",
   "metadata": {},
   "outputs": [
    {
     "name": "stdout",
     "output_type": "stream",
     "text": [
      "Numbers of even numbers present here are 0\n"
     ]
    }
   ],
   "source": [
    "flag = 0\n",
    "for i in range(5):\n",
    "    a = i%2\n",
    "    if i == 0:\n",
    "        break\n",
    "    elif a == 0:\n",
    "        flag += 1\n",
    "print(f'Numbers of even numbers present here are {flag}')"
   ]
  },
  {
   "cell_type": "code",
   "execution_count": 8,
   "id": "e459d4fc-5fbb-4950-8217-d6bc75e73c0e",
   "metadata": {},
   "outputs": [
    {
     "data": {
      "text/plain": [
       "0"
      ]
     },
     "execution_count": 8,
     "metadata": {},
     "output_type": "execute_result"
    }
   ],
   "source": [
    "10%2"
   ]
  },
  {
   "cell_type": "code",
   "execution_count": 15,
   "id": "bc64bc42-f43b-4ec2-ab70-ed3a9e9b8cb4",
   "metadata": {},
   "outputs": [
    {
     "name": "stdout",
     "output_type": "stream",
     "text": [
      "0\n",
      "2\n",
      "4\n",
      "6\n",
      "8\n"
     ]
    }
   ],
   "source": [
    "for i in range(10):\n",
    "    a = i%2\n",
    "    if a == 0:\n",
    "        print(i)"
   ]
  },
  {
   "cell_type": "code",
   "execution_count": 16,
   "id": "f19a9ee0-56a2-4595-a054-36feeed09f84",
   "metadata": {},
   "outputs": [
    {
     "name": "stdout",
     "output_type": "stream",
     "text": [
      "2\n",
      "8\n"
     ]
    }
   ],
   "source": [
    "for i in range(2,9,3):\n",
    "    a = i%2\n",
    "    if a == 0:\n",
    "        print(i)"
   ]
  },
  {
   "cell_type": "code",
   "execution_count": 20,
   "id": "35888efe-62fb-4329-9fe3-a5f106fa157b",
   "metadata": {},
   "outputs": [
    {
     "name": "stdout",
     "output_type": "stream",
     "text": [
      "Numbers of even numbers present here are 2\n"
     ]
    }
   ],
   "source": [
    "flag = 0\n",
    "for i in range(2,9,3):\n",
    "    a = i%2\n",
    "    if a == 0:\n",
    "        flag += 1\n",
    "print(f'Numbers of even numbers present here are {flag}')"
   ]
  },
  {
   "cell_type": "code",
   "execution_count": 17,
   "id": "fa247385-45cd-438a-9f6f-4d82fe62f2ce",
   "metadata": {},
   "outputs": [
    {
     "name": "stdout",
     "output_type": "stream",
     "text": [
      "-4\n",
      "-2\n",
      "0\n",
      "2\n",
      "4\n"
     ]
    }
   ],
   "source": [
    "for i in range(-4,6,2):\n",
    "    a = i%2\n",
    "    if a == 0:\n",
    "        print(i)"
   ]
  },
  {
   "cell_type": "code",
   "execution_count": 18,
   "id": "c3cc2d63-fa34-4a3c-8bfe-55e384634767",
   "metadata": {},
   "outputs": [],
   "source": [
    "for i in range(5,6):\n",
    "    a = i%2\n",
    "    if a == 0:\n",
    "        print(i)"
   ]
  }
 ],
 "metadata": {
  "kernelspec": {
   "display_name": "Python 3 (ipykernel)",
   "language": "python",
   "name": "python3"
  },
  "language_info": {
   "codemirror_mode": {
    "name": "ipython",
    "version": 3
   },
   "file_extension": ".py",
   "mimetype": "text/x-python",
   "name": "python",
   "nbconvert_exporter": "python",
   "pygments_lexer": "ipython3",
   "version": "3.11.7"
  }
 },
 "nbformat": 4,
 "nbformat_minor": 5
}
