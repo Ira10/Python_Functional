{
 "cells": [
  {
   "cell_type": "markdown",
   "id": "d6c056ba-df1f-4336-92df-ac09730dbfa0",
   "metadata": {},
   "source": [
    "A number is Fibonacci if and only if one or both of (5*n2 + 4) or (5*n2 – 4) is a perfect square (Source: Wiki). "
   ]
  },
  {
   "cell_type": "code",
   "execution_count": 7,
   "id": "2c7273da-e5f8-421c-ab59-81495ccbb7b0",
   "metadata": {},
   "outputs": [
    {
     "name": "stdin",
     "output_type": "stream",
     "text": [
      "Enter the f number  7\n"
     ]
    },
    {
     "name": "stdout",
     "output_type": "stream",
     "text": [
      "fibonacci\n"
     ]
    }
   ],
   "source": [
    "n = int(input(\"Enter the f number \"))\n",
    "from math import sqrt\n",
    "a = (5*(n^2)+4)\n",
    "b = (5*(n^2)-4)\n",
    "a_root = sqrt(a)\n",
    "b_root = sqrt(b)\n",
    "type_ = type(b_root)\n",
    "if type_ == 'float':\n",
    "    print(\"Not fibonacci\")\n",
    "else:\n",
    "    print(\"fibonacci\")"
   ]
  },
  {
   "cell_type": "code",
   "execution_count": 8,
   "id": "bedc011d-dd46-49b8-969b-0cfd5e8a5b5a",
   "metadata": {},
   "outputs": [
    {
     "data": {
      "text/plain": [
       "float"
      ]
     },
     "execution_count": 8,
     "metadata": {},
     "output_type": "execute_result"
    }
   ],
   "source": [
    "type_ = type(b_root)\n",
    "type_"
   ]
  },
  {
   "cell_type": "markdown",
   "id": "fe877910-986f-474f-9dc6-9550558d17ab",
   "metadata": {},
   "source": [
    "### *gfg*"
   ]
  },
  {
   "cell_type": "code",
   "execution_count": 9,
   "id": "f28167e1-0235-4c39-bdce-c6fbc55b6317",
   "metadata": {},
   "outputs": [
    {
     "name": "stdout",
     "output_type": "stream",
     "text": [
      "1 is a Fibonacci Number\n",
      "2 is a Fibonacci Number\n",
      "3 is a Fibonacci Number\n",
      "4 is a not Fibonacci Number \n",
      "5 is a Fibonacci Number\n",
      "6 is a not Fibonacci Number \n",
      "7 is a not Fibonacci Number \n",
      "8 is a Fibonacci Number\n",
      "9 is a not Fibonacci Number \n",
      "10 is a not Fibonacci Number \n"
     ]
    }
   ],
   "source": [
    "# python program to check if x is a perfect square\n",
    "import math\n",
    "\n",
    "# A utility function that returns true if x is perfect square\n",
    "\n",
    "\n",
    "def isPerfectSquare(x):\n",
    "\ts = int(math.sqrt(x))\n",
    "\treturn s*s == x\n",
    "\n",
    "# Returns true if n is a Fibonacci Number, else false\n",
    "\n",
    "\n",
    "def isFibonacci(n):\n",
    "\n",
    "\t# n is Fibonacci if one of 5*n*n + 4 or 5*n*n - 4 or both\n",
    "\t# is a perfect square\n",
    "\treturn isPerfectSquare(5*n*n + 4) or isPerfectSquare(5*n*n - 4)\n",
    "\n",
    "\n",
    "# A utility function to test above functions\n",
    "for i in range(1, 11):\n",
    "\tif (isFibonacci(i) == True):\n",
    "\t\tprint(i, \"is a Fibonacci Number\")\n",
    "\telse:\n",
    "\t\tprint(i, \"is a not Fibonacci Number \")\n"
   ]
  }
 ],
 "metadata": {
  "kernelspec": {
   "display_name": "Python 3 (ipykernel)",
   "language": "python",
   "name": "python3"
  },
  "language_info": {
   "codemirror_mode": {
    "name": "ipython",
    "version": 3
   },
   "file_extension": ".py",
   "mimetype": "text/x-python",
   "name": "python",
   "nbconvert_exporter": "python",
   "pygments_lexer": "ipython3",
   "version": "3.11.7"
  }
 },
 "nbformat": 4,
 "nbformat_minor": 5
}
