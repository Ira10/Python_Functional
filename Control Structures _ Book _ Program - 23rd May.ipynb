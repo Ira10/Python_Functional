{
 "cells": [
  {
   "cell_type": "code",
   "execution_count": 1,
   "id": "97af934f-10a8-49c5-bb57-c7de003c7b73",
   "metadata": {},
   "outputs": [
    {
     "data": {
      "text/plain": [
       "int"
      ]
     },
     "execution_count": 1,
     "metadata": {},
     "output_type": "execute_result"
    }
   ],
   "source": [
    "type(12)"
   ]
  },
  {
   "cell_type": "code",
   "execution_count": 2,
   "id": "c7bd75c5-5f14-4409-aebc-b38e6fcf0672",
   "metadata": {},
   "outputs": [
    {
     "name": "stdout",
     "output_type": "stream",
     "text": [
      "remarks = good\n"
     ]
    }
   ],
   "source": [
    "marks = 80\n",
    "\n",
    "if marks >= 70:\n",
    "    print(\"remarks = good\")\n",
    "else:\n",
    "    print(\"remarks = average\")"
   ]
  },
  {
   "cell_type": "code",
   "execution_count": 8,
   "id": "4a899902-a58d-4b71-a176-468d716247ae",
   "metadata": {},
   "outputs": [
    {
     "name": "stdout",
     "output_type": "stream",
     "text": [
      "good\n"
     ]
    }
   ],
   "source": [
    "marks = 80\n",
    "\n",
    "def rem():\n",
    "    if marks >= 70:\n",
    "        remarks = \"good\"\n",
    "    else:\n",
    "        remarks = \"average\"\n",
    "    return remarks\n",
    "\n",
    "# print(remarks)\n",
    "\n",
    "print(rem())"
   ]
  },
  {
   "cell_type": "code",
   "execution_count": 9,
   "id": "30492177-6ec8-4933-8f8c-40f40fd7557e",
   "metadata": {},
   "outputs": [
    {
     "name": "stdout",
     "output_type": "stream",
     "text": [
      "75\n"
     ]
    }
   ],
   "source": [
    "total = 0\n",
    "n = 5\n",
    "for i in range(1,n+1):\n",
    "    for j in range(1,n+1):\n",
    "        total += i\n",
    "print(total)"
   ]
  },
  {
   "cell_type": "code",
   "execution_count": 10,
   "id": "646faa34-1f4c-4bf8-ac10-16bf5956eeda",
   "metadata": {},
   "outputs": [
    {
     "name": "stdout",
     "output_type": "stream",
     "text": [
      "1\n",
      "2\n",
      "3\n",
      "4\n",
      "5\n"
     ]
    }
   ],
   "source": [
    "total = 0\n",
    "n = 5\n",
    "for i in range(1,n+1):\n",
    "    print(i)"
   ]
  },
  {
   "cell_type": "code",
   "execution_count": 11,
   "id": "fee44aa7-3495-471a-b59e-1e6bff5054df",
   "metadata": {},
   "outputs": [
    {
     "name": "stdout",
     "output_type": "stream",
     "text": [
      "1\n",
      "2\n",
      "3\n",
      "4\n",
      "5\n",
      "1\n",
      "2\n",
      "3\n",
      "4\n",
      "5\n",
      "1\n",
      "2\n",
      "3\n",
      "4\n",
      "5\n",
      "1\n",
      "2\n",
      "3\n",
      "4\n",
      "5\n",
      "1\n",
      "2\n",
      "3\n",
      "4\n",
      "5\n"
     ]
    }
   ],
   "source": [
    "total = 0\n",
    "n = 5\n",
    "for i in range(1,n+1):\n",
    "    for j in range(1,n+1):\n",
    "        print(j)"
   ]
  },
  {
   "cell_type": "code",
   "execution_count": 12,
   "id": "0009c69b-eb45-49f6-b204-47b3092dd5af",
   "metadata": {},
   "outputs": [
    {
     "name": "stdout",
     "output_type": "stream",
     "text": [
      "75\n"
     ]
    }
   ],
   "source": [
    "total = 0\n",
    "n = 5\n",
    "for i in range(1,n+1):\n",
    "    for j in range(1,n+1):\n",
    "        total += j\n",
    "print(total)"
   ]
  },
  {
   "cell_type": "code",
   "execution_count": 13,
   "id": "7adc1cc5-273e-44e7-be3f-08c487356d23",
   "metadata": {},
   "outputs": [
    {
     "name": "stdout",
     "output_type": "stream",
     "text": [
      "150\n"
     ]
    }
   ],
   "source": [
    "total = 0\n",
    "n = 5\n",
    "for i in range(1,n+1):\n",
    "    for j in range(1,n+1):\n",
    "        total += i + j\n",
    "print(total)"
   ]
  },
  {
   "cell_type": "code",
   "execution_count": 14,
   "id": "94965b44-121e-4152-84f3-e21362d178dc",
   "metadata": {},
   "outputs": [
    {
     "name": "stdout",
     "output_type": "stream",
     "text": [
      "35\n"
     ]
    }
   ],
   "source": [
    "total = 0\n",
    "n = 5\n",
    "for i in range(1,n+1):\n",
    "    for j in range(1 , i+1):\n",
    "        for k in range(1, j+1):\n",
    "            total += 1\n",
    "print(total)"
   ]
  },
  {
   "cell_type": "code",
   "execution_count": 19,
   "id": "1b53eb65-20a2-4238-b5f9-0ea2636b009b",
   "metadata": {},
   "outputs": [
    {
     "name": "stdout",
     "output_type": "stream",
     "text": [
      "47.33333333296433 6\n"
     ]
    }
   ],
   "source": [
    "number = 72958476\n",
    "a, b = 0,0\n",
    "while(number > 0):\n",
    "    digit = number % 10\n",
    "    if (digit % 2 != 0):\n",
    "        a += digit\n",
    "    else:\n",
    "        b += digit\n",
    "    number /= 10\n",
    "print(a,b)"
   ]
  },
  {
   "cell_type": "code",
   "execution_count": 18,
   "id": "a7a252f1-0405-43b2-88af-1aa8f970bec8",
   "metadata": {},
   "outputs": [
    {
     "data": {
      "text/plain": [
       "7295847.6"
      ]
     },
     "execution_count": 18,
     "metadata": {},
     "output_type": "execute_result"
    }
   ],
   "source": [
    "72958476 / 10"
   ]
  }
 ],
 "metadata": {
  "kernelspec": {
   "display_name": "Python 3 (ipykernel)",
   "language": "python",
   "name": "python3"
  },
  "language_info": {
   "codemirror_mode": {
    "name": "ipython",
    "version": 3
   },
   "file_extension": ".py",
   "mimetype": "text/x-python",
   "name": "python",
   "nbconvert_exporter": "python",
   "pygments_lexer": "ipython3",
   "version": "3.11.7"
  }
 },
 "nbformat": 4,
 "nbformat_minor": 5
}
