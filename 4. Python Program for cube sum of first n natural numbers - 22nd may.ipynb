{
 "cells": [
  {
   "cell_type": "code",
   "execution_count": 6,
   "id": "e865dd2d-6b8e-4d58-bc76-f5674d7f0b3e",
   "metadata": {},
   "outputs": [
    {
     "name": "stdin",
     "output_type": "stream",
     "text": [
      "Enter the interger 5\n"
     ]
    },
    {
     "name": "stdout",
     "output_type": "stream",
     "text": [
      "225\n"
     ]
    }
   ],
   "source": [
    "n = int(input(\"Enter the interger\"))\n",
    "\n",
    "def cube_(p):\n",
    "    square = 0\n",
    "\n",
    "    for i in range(p+1):\n",
    "        square = square + i ** 3\n",
    "    return square\n",
    "\n",
    "print(cube_(n))"
   ]
  },
  {
   "cell_type": "markdown",
   "id": "909dd6b8-df9d-4105-854e-6e6bed3f6edb",
   "metadata": {},
   "source": [
    "return is very important here"
   ]
  }
 ],
 "metadata": {
  "kernelspec": {
   "display_name": "Python 3 (ipykernel)",
   "language": "python",
   "name": "python3"
  },
  "language_info": {
   "codemirror_mode": {
    "name": "ipython",
    "version": 3
   },
   "file_extension": ".py",
   "mimetype": "text/x-python",
   "name": "python",
   "nbconvert_exporter": "python",
   "pygments_lexer": "ipython3",
   "version": "3.11.7"
  }
 },
 "nbformat": 4,
 "nbformat_minor": 5
}
