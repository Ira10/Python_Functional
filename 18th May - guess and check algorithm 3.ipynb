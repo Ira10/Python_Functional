{
 "cells": [
  {
   "cell_type": "markdown",
   "id": "a55f78ca-d8e5-43f7-9610-0af3b8e7d8a9",
   "metadata": {},
   "source": [
    "#### Guess and Check algorithm"
   ]
  },
  {
   "cell_type": "markdown",
   "id": "e42a3f8d-6ee4-483b-9a26-e8d26051657a",
   "metadata": {},
   "source": [
    "##### my solution"
   ]
  },
  {
   "cell_type": "code",
   "execution_count": 8,
   "id": "90841992-824c-406b-b1ed-7ab068936974",
   "metadata": {},
   "outputs": [
    {
     "name": "stdin",
     "output_type": "stream",
     "text": [
      "Enter a number 16\n",
      "Guess the root bro  3\n"
     ]
    },
    {
     "name": "stdout",
     "output_type": "stream",
     "text": [
      "Guess again\n"
     ]
    }
   ],
   "source": [
    "import math\n",
    "int_ = int(input(\"Enter a number\"))\n",
    "\n",
    "root = int(math.sqrt(int_))\n",
    "\n",
    "guess = int(input(\"Guess the root bro \"))\n",
    "\n",
    "\n",
    "if guess < root:\n",
    "    print(\"Guess again\")\n",
    "elif guess == root:\n",
    "    print(\"Eureka, you are right\")\n",
    "else:\n",
    "    print(\"Guess again\")\n",
    "    print(\"Your guess is bigger than the actual root\")"
   ]
  },
  {
   "cell_type": "markdown",
   "id": "d670a88f-dc03-423b-b755-83d2c1001435",
   "metadata": {},
   "source": [
    "#### mit - while loop solution"
   ]
  },
  {
   "cell_type": "code",
   "execution_count": 9,
   "id": "c28845fc-3f5b-4a88-b993-1de7abb582ee",
   "metadata": {},
   "outputs": [
    {
     "name": "stdin",
     "output_type": "stream",
     "text": [
      "Enter an integer:  16\n"
     ]
    },
    {
     "name": "stdout",
     "output_type": "stream",
     "text": [
      "Square root of 16 is 4\n"
     ]
    }
   ],
   "source": [
    "guess = 0\n",
    "\n",
    "x = int(input(\"Enter an integer: \"))\n",
    "\n",
    "while guess**2 < x:\n",
    "    guess = guess + 1\n",
    "if guess**2 == x:\n",
    "    print(\"Square root of\", x, \"is\", guess)\n",
    "else:\n",
    "    print(\"x is not perfect square\")"
   ]
  },
  {
   "cell_type": "code",
   "execution_count": 11,
   "id": "e5086493-7378-4ba4-a4bf-3e8542c801cd",
   "metadata": {},
   "outputs": [
    {
     "name": "stdin",
     "output_type": "stream",
     "text": [
      "Enter an integer:  81\n"
     ]
    },
    {
     "name": "stdout",
     "output_type": "stream",
     "text": [
      "Square root of 81 is 9\n"
     ]
    }
   ],
   "source": [
    "guess = 0\n",
    "\n",
    "x = int(input(\"Enter an integer: \"))\n",
    "\n",
    "while guess**2 < x:\n",
    "    guess = guess + 1\n",
    "if guess**2 == x:\n",
    "    print(\"Square root of\", x, \"is\", guess)\n",
    "else:\n",
    "    print(\"x is not perfect square\")"
   ]
  },
  {
   "cell_type": "code",
   "execution_count": null,
   "id": "9e2ee02c-40e7-403d-9360-5105ecf95163",
   "metadata": {},
   "outputs": [],
   "source": []
  }
 ],
 "metadata": {
  "kernelspec": {
   "display_name": "Python 3 (ipykernel)",
   "language": "python",
   "name": "python3"
  },
  "language_info": {
   "codemirror_mode": {
    "name": "ipython",
    "version": 3
   },
   "file_extension": ".py",
   "mimetype": "text/x-python",
   "name": "python",
   "nbconvert_exporter": "python",
   "pygments_lexer": "ipython3",
   "version": "3.11.7"
  }
 },
 "nbformat": 4,
 "nbformat_minor": 5
}
