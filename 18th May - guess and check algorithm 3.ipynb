{
 "cells": [
  {
   "cell_type": "markdown",
   "id": "a55f78ca-d8e5-43f7-9610-0af3b8e7d8a9",
   "metadata": {},
   "source": [
    "#### Guess and Check algorithm"
   ]
  },
  {
   "cell_type": "code",
   "execution_count": null,
   "id": "90841992-824c-406b-b1ed-7ab068936974",
   "metadata": {},
   "outputs": [],
   "source": [
    "import math\n",
    "int_ = int(input(\"Enter a number\"))\n",
    "\n",
    "root = int(math.sqrt(int_))\n",
    "\n",
    "guess = int(input(\"Guess the root bro \"))\n",
    "\n",
    "while guess < root:\n",
    "    if guess == root:\n",
    "        print(\"Eureka, you are right\")\n",
    "    else:\n",
    "        print(\"Guess again\")\n",
    "print(\"Your guess is bigger than the actual root\")"
   ]
  },
  {
   "cell_type": "code",
   "execution_count": null,
   "id": "c8deddf7-3d7c-4fed-8d2a-4fae3ac50b04",
   "metadata": {},
   "outputs": [],
   "source": []
  }
 ],
 "metadata": {
  "kernelspec": {
   "display_name": "Python 3 (ipykernel)",
   "language": "python",
   "name": "python3"
  },
  "language_info": {
   "codemirror_mode": {
    "name": "ipython",
    "version": 3
   },
   "file_extension": ".py",
   "mimetype": "text/x-python",
   "name": "python",
   "nbconvert_exporter": "python",
   "pygments_lexer": "ipython3",
   "version": "3.11.7"
  }
 },
 "nbformat": 4,
 "nbformat_minor": 5
}
