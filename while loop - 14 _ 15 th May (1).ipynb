{
 "cells": [
  {
   "cell_type": "code",
   "execution_count": 2,
   "id": "742bf096-2b63-4f13-8eab-b5eb52d2ccd2",
   "metadata": {},
   "outputs": [
    {
     "name": "stdin",
     "output_type": "stream",
     "text": [
      "Left or Right??  right\n",
      "You are lost dude, left or right?  right\n",
      "You are lost dude, left or right?  right\n",
      "You are lost dude, left or right?  left\n"
     ]
    },
    {
     "name": "stdout",
     "output_type": "stream",
     "text": [
      "tata!!\n"
     ]
    }
   ],
   "source": [
    "where = input(\"Left or Right?? \")\n",
    "\n",
    "while where == 'right':\n",
    "    where = input(\"You are lost dude, left or right? \")\n",
    "print(\"tata!!\")"
   ]
  },
  {
   "cell_type": "markdown",
   "id": "e8ab9bd1-524c-4a7b-9c68-f3cd48907db1",
   "metadata": {},
   "source": [
    "# While CAN GO ON indefinitely "
   ]
  },
  {
   "cell_type": "code",
   "execution_count": 33,
   "id": "22c366b2-8e39-4b0d-afe8-edf8c6afdb84",
   "metadata": {},
   "outputs": [],
   "source": [
    "# where = input(\"Left or Right?? \")\n",
    "\n",
    "# while where == 'right':\n",
    "#     print(\"You are lost dude, left or right? \")\n",
    "# print(\"tata!!\")"
   ]
  },
  {
   "cell_type": "code",
   "execution_count": null,
   "id": "8509d8be-21b9-4ef5-9308-831d220892f5",
   "metadata": {},
   "outputs": [],
   "source": [
    "where = input(\"Left or Right?? \")\n",
    "\n",
    "while where == 'right':\n",
    "    print(\"You are lost dude, left or right? \")\n",
    "    break\n",
    "print(\"tata!!\")"
   ]
  },
  {
   "cell_type": "code",
   "execution_count": 10,
   "id": "e502a161-5c7f-412c-82e7-6e1909a42a20",
   "metadata": {},
   "outputs": [
    {
     "name": "stdin",
     "output_type": "stream",
     "text": [
      "Enter something  4\n"
     ]
    },
    {
     "name": "stdout",
     "output_type": "stream",
     "text": [
      "x\n",
      "x\n",
      "x\n",
      "x\n"
     ]
    }
   ],
   "source": [
    "n = int(input(\"Enter something \"))\n",
    "\n",
    "while n > 0:\n",
    "    print('x')\n",
    "    n = n - 1"
   ]
  },
  {
   "cell_type": "code",
   "execution_count": null,
   "id": "93abf9d6-dbb9-42e1-818c-fe9c3995e49a",
   "metadata": {},
   "outputs": [],
   "source": [
    "n = int(input(\"Enter something \"))\n",
    "\n",
    "while n > 0:\n",
    "    print('x')\n",
    "\n",
    "# it is an infinite loop, don't try, it will crash man."
   ]
  },
  {
   "cell_type": "code",
   "execution_count": 11,
   "id": "44a82be1-0afa-4c07-9a14-5a3ca4f1d5bd",
   "metadata": {},
   "outputs": [
    {
     "ename": "SyntaxError",
     "evalue": "expected ':' (888274177.py, line 1)",
     "output_type": "error",
     "traceback": [
      "\u001b[0;36m  Cell \u001b[0;32mIn[11], line 1\u001b[0;36m\u001b[0m\n\u001b[0;31m    if ncldslj\u001b[0m\n\u001b[0m              ^\u001b[0m\n\u001b[0;31mSyntaxError\u001b[0m\u001b[0;31m:\u001b[0m expected ':'\n"
     ]
    }
   ],
   "source": [
    "if ncldslj"
   ]
  },
  {
   "cell_type": "code",
   "execution_count": 3,
   "id": "cb32f14e-fc8e-4931-8caf-58006aab6d87",
   "metadata": {},
   "outputs": [
    {
     "name": "stdin",
     "output_type": "stream",
     "text": [
      "Left or right? right\n",
      "Left or right right\n",
      "Left or right right\n"
     ]
    },
    {
     "name": "stdout",
     "output_type": "stream",
     "text": [
      "😔\n"
     ]
    },
    {
     "name": "stdin",
     "output_type": "stream",
     "text": [
      "Left or right right\n"
     ]
    },
    {
     "name": "stdout",
     "output_type": "stream",
     "text": [
      "😔\n"
     ]
    },
    {
     "name": "stdin",
     "output_type": "stream",
     "text": [
      "Left or right right\n"
     ]
    },
    {
     "name": "stdout",
     "output_type": "stream",
     "text": [
      "😔\n"
     ]
    },
    {
     "name": "stdin",
     "output_type": "stream",
     "text": [
      "Left or right left\n"
     ]
    },
    {
     "name": "stdout",
     "output_type": "stream",
     "text": [
      "Tata!\n"
     ]
    }
   ],
   "source": [
    "n = 0\n",
    "where = input(\"Left or right?\")\n",
    "while where == 'right':\n",
    "    n = n + 1\n",
    "    if n > 2:\n",
    "        print(\"😔\")\n",
    "    where = input(\"Left or right\")\n",
    "print(\"Tata!\")"
   ]
  },
  {
   "cell_type": "code",
   "execution_count": 9,
   "id": "c02c72a0-1f85-45c9-bd67-c3fdb09d1c8d",
   "metadata": {},
   "outputs": [],
   "source": [
    "n  = 5 #int(input(\"Enter the number\"))\n",
    "while n < 5:\n",
    "    print(n)\n",
    "    n = n + 1"
   ]
  },
  {
   "cell_type": "code",
   "execution_count": 10,
   "id": "43a69896-df13-401d-a735-01434611a9f6",
   "metadata": {},
   "outputs": [
    {
     "name": "stdout",
     "output_type": "stream",
     "text": [
      "1\n",
      "2\n",
      "3\n",
      "4\n"
     ]
    }
   ],
   "source": [
    "n  = 1 #int(input(\"Enter the number\"))\n",
    "while n < 5:\n",
    "    print(n)\n",
    "    n = n + 1"
   ]
  },
  {
   "cell_type": "code",
   "execution_count": 7,
   "id": "e6374fe5-b62a-4a47-b22e-3c78c5b7e268",
   "metadata": {},
   "outputs": [
    {
     "data": {
      "text/plain": [
       "5"
      ]
     },
     "execution_count": 7,
     "metadata": {},
     "output_type": "execute_result"
    }
   ],
   "source": [
    "a = 5\n",
    "a"
   ]
  },
  {
   "cell_type": "markdown",
   "id": "9a694880-0d00-42d1-995f-6d28e77d5b61",
   "metadata": {},
   "source": [
    "#### Factorial"
   ]
  },
  {
   "cell_type": "code",
   "execution_count": 13,
   "id": "96aef020-3a0e-4ed8-9bf9-1bab7323dcb1",
   "metadata": {},
   "outputs": [
    {
     "name": "stdout",
     "output_type": "stream",
     "text": [
      " 5 s factorial is 120\n"
     ]
    }
   ],
   "source": [
    "x = 5\n",
    "i = 1\n",
    "fact = 1\n",
    "while i <= x:\n",
    "    fact *= i\n",
    "    i += 1\n",
    "print(f' {x} s factorial is {fact}')"
   ]
  },
  {
   "cell_type": "code",
   "execution_count": 14,
   "id": "e8fd9f24-1e6f-4b4b-bf6b-7450a4bceee9",
   "metadata": {},
   "outputs": [
    {
     "name": "stdout",
     "output_type": "stream",
     "text": [
      "0\n",
      "1\n",
      "2\n",
      "3\n",
      "4\n"
     ]
    }
   ],
   "source": [
    "for n in range(5):\n",
    "    print(n)"
   ]
  },
  {
   "cell_type": "code",
   "execution_count": 16,
   "id": "7b2eb45d-4c92-43fa-8c35-a87422f7d5d5",
   "metadata": {},
   "outputs": [
    {
     "name": "stdout",
     "output_type": "stream",
     "text": [
      "0\n",
      "33\n",
      "66\n",
      "99\n"
     ]
    }
   ],
   "source": [
    "for n in range(0,100,33):\n",
    "    print(n)"
   ]
  },
  {
   "cell_type": "code",
   "execution_count": 17,
   "id": "039587c2-aac2-4abf-9c7c-cbff2223cccd",
   "metadata": {},
   "outputs": [
    {
     "name": "stdout",
     "output_type": "stream",
     "text": [
      "137367\n",
      "137368\n"
     ]
    }
   ],
   "source": [
    "for n in range(137367,137369):\n",
    "    print(n)"
   ]
  },
  {
   "cell_type": "code",
   "execution_count": 19,
   "id": "733185b3-d592-497a-b534-51fc266a5bb8",
   "metadata": {},
   "outputs": [
    {
     "name": "stdout",
     "output_type": "stream",
     "text": [
      "2\n",
      "8\n",
      "4\n"
     ]
    }
   ],
   "source": [
    "for i in (1,4,2):\n",
    "    print (i*2)"
   ]
  },
  {
   "cell_type": "code",
   "execution_count": 20,
   "id": "e5ac6599-b6a8-40d0-a2de-bd99673b4cf0",
   "metadata": {},
   "outputs": [
    {
     "name": "stdout",
     "output_type": "stream",
     "text": [
      "2\n",
      "6\n"
     ]
    }
   ],
   "source": [
    "for i in range(1,4,2):\n",
    "    print (i*2)"
   ]
  },
  {
   "cell_type": "code",
   "execution_count": 23,
   "id": "92137d7a-4dff-4f91-94b2-f55e05cab762",
   "metadata": {},
   "outputs": [],
   "source": [
    "for me in range(0,4,-2):\n",
    "    print(\"$\"*me)\n",
    "#it won't run, as it is only for incrementing"
   ]
  },
  {
   "cell_type": "code",
   "execution_count": 25,
   "id": "6cfede6b-d75b-47c0-9e3b-bd6b1c5d8742",
   "metadata": {},
   "outputs": [
    {
     "name": "stdout",
     "output_type": "stream",
     "text": [
      "$$$$\n",
      "$$$\n",
      "$$\n",
      "$\n"
     ]
    }
   ],
   "source": [
    "for me in range(4,0,-1):\n",
    "    print(\"$\"*me)"
   ]
  },
  {
   "cell_type": "code",
   "execution_count": 27,
   "id": "2bf4a371-2c19-4a03-8101-e67cc93fc891",
   "metadata": {},
   "outputs": [
    {
     "name": "stdout",
     "output_type": "stream",
     "text": [
      "0\n",
      "0\n",
      "1\n",
      "3\n",
      "6\n",
      "10\n",
      "15\n",
      "21\n",
      "28\n",
      "36\n",
      "45\n"
     ]
    }
   ],
   "source": [
    "mysum = 0\n",
    "for i in range(10):\n",
    "    print(mysum)\n",
    "    mysum += i\n",
    "print(mysum)"
   ]
  },
  {
   "cell_type": "code",
   "execution_count": 28,
   "id": "46d9a6e4-4e35-498a-8b4a-a53d939e4734",
   "metadata": {},
   "outputs": [
    {
     "name": "stdout",
     "output_type": "stream",
     "text": [
      "0\n",
      "0\n",
      "0\n",
      "1\n",
      "1\n",
      "2\n",
      "3\n",
      "3\n",
      "6\n",
      "4\n",
      "10\n",
      "5\n",
      "15\n",
      "6\n",
      "21\n",
      "7\n",
      "28\n",
      "8\n",
      "36\n",
      "9\n",
      "45\n"
     ]
    }
   ],
   "source": [
    "mysum = 0\n",
    "for i in range(10):\n",
    "    print(mysum)\n",
    "    print(i)\n",
    "    mysum += i\n",
    "print(mysum)"
   ]
  },
  {
   "cell_type": "code",
   "execution_count": 29,
   "id": "a9ab5dd5-8c04-4557-93d4-c6f4fcb83f07",
   "metadata": {},
   "outputs": [
    {
     "name": "stdout",
     "output_type": "stream",
     "text": [
      "77\n"
     ]
    }
   ],
   "source": [
    "mysum = 0\n",
    "start = 2\n",
    "end = 13\n",
    "for i in range(start, end):\n",
    "    mysum += i\n",
    "print(mysum)"
   ]
  },
  {
   "cell_type": "code",
   "execution_count": 31,
   "id": "f7262544-aeb7-4b69-a6a5-f82c218d079e",
   "metadata": {},
   "outputs": [
    {
     "name": "stdout",
     "output_type": "stream",
     "text": [
      "i is  2\n",
      "i is  3\n",
      "i is  4\n",
      "i is  5\n",
      "i is  6\n",
      "i is  7\n",
      "i is  8\n",
      "i is  9\n",
      "i is  10\n",
      "i is  11\n",
      "i is  12\n",
      "77\n"
     ]
    }
   ],
   "source": [
    "mysum = 0\n",
    "start = 2\n",
    "end = 13\n",
    "for i in range(start, end):\n",
    "    print(f'i is  {i}')\n",
    "    mysum += i\n",
    "print(mysum)"
   ]
  },
  {
   "cell_type": "code",
   "execution_count": 32,
   "id": "464f057c-5a4e-486e-985f-2eb931f2eefc",
   "metadata": {},
   "outputs": [
    {
     "name": "stdout",
     "output_type": "stream",
     "text": [
      "24\n"
     ]
    }
   ],
   "source": [
    "x = 4\n",
    "fact = 1\n",
    "for i in range(1, x+1, 1):\n",
    "    fact *= i\n",
    "print(fact)"
   ]
  }
 ],
 "metadata": {
  "kernelspec": {
   "display_name": "Python 3 (ipykernel)",
   "language": "python",
   "name": "python3"
  },
  "language_info": {
   "codemirror_mode": {
    "name": "ipython",
    "version": 3
   },
   "file_extension": ".py",
   "mimetype": "text/x-python",
   "name": "python",
   "nbconvert_exporter": "python",
   "pygments_lexer": "ipython3",
   "version": "3.11.7"
  }
 },
 "nbformat": 4,
 "nbformat_minor": 5
}
