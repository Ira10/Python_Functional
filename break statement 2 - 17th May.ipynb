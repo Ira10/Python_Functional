{
 "cells": [
  {
   "cell_type": "code",
   "execution_count": 11,
   "id": "ed5fe647-56ee-4621-830e-8d257ddb2e84",
   "metadata": {},
   "outputs": [
    {
     "name": "stdout",
     "output_type": "stream",
     "text": [
      "There is an i or u\n",
      "There is an i or u\n"
     ]
    }
   ],
   "source": [
    "s = 'demo loops - fruits loops'\n",
    "\n",
    "for index in range(len(s)):\n",
    "    if s[index] == 'i' or s[index] == 'u':\n",
    "        print(\"There is an i or u\")"
   ]
  },
  {
   "cell_type": "code",
   "execution_count": 12,
   "id": "57ad99a9-3c4d-4e05-a30f-d127025cc938",
   "metadata": {},
   "outputs": [
    {
     "name": "stdout",
     "output_type": "stream",
     "text": [
      "There is an u\n",
      "There is an i\n"
     ]
    }
   ],
   "source": [
    "s = 'demo loops - fruits loops'\n",
    "\n",
    "for index in range(len(s)):\n",
    "    if s[index] == 'i' or s[index] == 'u':\n",
    "        print(f\"There is an {s[index]}\")"
   ]
  },
  {
   "cell_type": "markdown",
   "id": "72127b54-f2b3-4a11-bab9-224ad6d15956",
   "metadata": {},
   "source": [
    "**Uses <u>range</u> to iterate through **<font color='red'>index</font>** of strings.**"
   ]
  },
  {
   "cell_type": "code",
   "execution_count": 13,
   "id": "7262bd3e-0500-4d52-b379-3767ed50674e",
   "metadata": {},
   "outputs": [
    {
     "name": "stdout",
     "output_type": "stream",
     "text": [
      "There is an i or u\n",
      "There is an i or u\n"
     ]
    }
   ],
   "source": [
    "for char in s:\n",
    "    if char == 'i' or char == 'u':\n",
    "        print(\"There is an i or u\")"
   ]
  },
  {
   "cell_type": "code",
   "execution_count": 15,
   "id": "e5688d57-7f2b-4630-a655-3a9fbdcd4e60",
   "metadata": {},
   "outputs": [
    {
     "name": "stdout",
     "output_type": "stream",
     "text": [
      "d\n",
      "e\n",
      "m\n",
      "o\n",
      " \n",
      "l\n"
     ]
    }
   ],
   "source": [
    "for char in s[0:6]:\n",
    "    print(char)"
   ]
  },
  {
   "cell_type": "code",
   "execution_count": 17,
   "id": "6029db64-07f1-4dda-bf01-18d3a1f252d0",
   "metadata": {},
   "outputs": [
    {
     "name": "stdout",
     "output_type": "stream",
     "text": [
      "Ok, man!\n"
     ]
    }
   ],
   "source": [
    "for char in s:\n",
    "    if char == 'iu':\n",
    "        print(\"Blagh\")\n",
    "print(\"Ok, man!\")"
   ]
  }
 ],
 "metadata": {
  "kernelspec": {
   "display_name": "Python 3 (ipykernel)",
   "language": "python",
   "name": "python3"
  },
  "language_info": {
   "codemirror_mode": {
    "name": "ipython",
    "version": 3
   },
   "file_extension": ".py",
   "mimetype": "text/x-python",
   "name": "python",
   "nbconvert_exporter": "python",
   "pygments_lexer": "ipython3",
   "version": "3.11.7"
  }
 },
 "nbformat": 4,
 "nbformat_minor": 5
}
