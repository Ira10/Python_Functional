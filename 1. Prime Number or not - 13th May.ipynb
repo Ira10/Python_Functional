{
 "cells": [ 
  {
   "cell_type": "markdown",
   "id": "37613e3c-cdab-4a0c-b572-9e7d49c82489",
   "metadata": {},
   "source": [
    "n = int(input(\"Enter the number \"))\n",
    "if n == 0:\n",
    "    print(n)\n",
    "else:\n", 
    "    print(\"dude\")"
   ]
  },
  {
   "cell_type": "markdown",
   "id": "0e9689b2-ae99-4f89-8d67-5176cb9d1ad5",
   "metadata": {},
   "source": [
    "**A prime number is a natural number greater than 1 that\n",
    " has no positive divisors other than 1 and itself.\n",
    "  The first few prime numbers are {2, 3, 5, 7, 11, ….}.**"
   ]
  },
  {
   "cell_type": "code",
   "execution_count": 14,
   "id": "2aaa0118-3c52-4489-8cb2-8f9818f5fd62",
   "metadata": {},
   "outputs": [
    {
     "name": "stdin",
     "output_type": "stream",
     "text": [
      "Enter the verb  run\n"
     ]
    },
    {
     "name": "stdout",
     "output_type": "stream",
     "text": [
      "I can  run better than you.\n"
     ]
    }
   ],
   "source": [
    "verb = input(\"Enter the verb \")\n",
    "\n",
    "print('I can ',verb, 'better than you.')"
   ]
  },
  {
   "cell_type": "code",
   "execution_count": 15,
   "id": "de71c53b-7829-44c8-93c9-689e56f7c5a7",
   "metadata": {},
   "outputs": [
    {
     "name": "stdout",
     "output_type": "stream",
     "text": [
      "I can run better\n"
     ]
    }
   ],
   "source": [
    "print(f'I can {verb} better')"
   ]
  },
  {
   "cell_type": "code",
   "execution_count": 21,
   "id": "c5402235-ec53-4fc9-84f0-6b4efbe8628d",
   "metadata": {},
   "outputs": [
    {
     "data": {
      "text/plain": [
       "True"
      ]
     },
     "execution_count": 21,
     "metadata": {},
     "output_type": "execute_result"
    }
   ],
   "source": [
    "(2!=3)"
   ]
  },
  {
   "cell_type": "markdown",
   "id": "a7ba4625-989e-41b9-96d0-85c57eb56558",
   "metadata": {},
   "source": [
    "**A prime number is a natural number greater than 1 that\n",
    " has no positive divisors other than 1 and itself.\n",
    "  The first few prime numbers are {2, 3, 5, 7, 11, ….}.**"
   ]
  },
  {
   "cell_type": "code",
   "execution_count": 50,
   "id": "31923105-129a-4dc1-b599-4283beef5d7c",
   "metadata": {},
   "outputs": [
    {
     "name": "stdin",
     "output_type": "stream",
     "text": [
      "Enter a number  11\n"
     ]
    },
    {
     "name": "stdout",
     "output_type": "stream",
     "text": [
      "prime\n"
     ]
    }
   ],
   "source": [
    "n = int(input(\"Enter a number \"))\n",
    "if n > 1:\n",
    "    for i in range (2, n//2+1):\n",
    "        if(n % i == 0):\n",
    "            print(\"Not prime\")\n",
    "            break\n",
    "    else:\n",
    "        print(\"prime\")    \n",
    "else:\n",
    "    print(\"Not prime\")"
   ]
  },
  {
   "cell_type": "markdown",
   "id": "546d47b3-b76f-423a-bd82-55400696d3a9",
   "metadata": {},
   "source": [
    "##### we are doing n//2, because maximum divisor is 2, like 12%6 = 2, but 12%7 is not possible"
   ]
  },
  {
   "cell_type": "code",
   "execution_count": 64,
   "id": "5511b251-0a62-44e7-9fc8-220f49edc650",
   "metadata": {},
   "outputs": [
    {
     "name": "stdin",
     "output_type": "stream",
     "text": [
      "Enter a number  17\n"
     ]
    },
    {
     "name": "stdout",
     "output_type": "stream",
     "text": [
      "prime\n",
      "None\n"
     ]
    }
   ],
   "source": [
    "n = int(input(\"Enter a number \"))\n",
    "def prime(n):\n",
    "    if n > 1:\n",
    "        for i in range (2, n//2+1):\n",
    "            if(n % i == 0):\n",
    "                print(\"Not prime\")\n",
    "                break\n",
    "        else:\n",
    "            print(\"prime\")    \n",
    "    else:\n",
    "        print(\"Not prime\")\n",
    "print(prime(n))"
   ]
  },
  {
   "cell_type": "code",
   "execution_count": 66,
   "id": "9fb66377-ee81-4e29-bede-103851a4891a",
   "metadata": {},
   "outputs": [
    {
     "name": "stdin",
     "output_type": "stream",
     "text": [
      "Enter a number  11\n"
     ]
    },
    {
     "name": "stdout",
     "output_type": "stream",
     "text": [
      "prime\n"
     ]
    }
   ],
   "source": [
    "n = int(input(\"Enter a number \"))\n",
    "def prime(n):\n",
    "    if n > 1:\n",
    "        for i in range (2, n//2+1):\n",
    "            if(n % i == 0):\n",
    "                print(\"Not prime\")\n",
    "                break\n",
    "        else:\n",
    "            print(\"prime\")    \n",
    "    else:\n",
    "        print(\"Not prime\")\n",
    "result = prime(n)\n",
    "if result:\n",
    "    print(result)"
   ]
  },
  {
   "cell_type": "code",
   "execution_count": 40,
   "id": "2ff3cc54-22a2-4ff7-bb6f-13fbd42bea94",
   "metadata": {},
   "outputs": [
    {
     "name": "stdout",
     "output_type": "stream",
     "text": [
      "11 is not a prime number\n"
     ]
    }
   ],
   "source": [
    "num = 11\n",
    "# If given number is greater than 1\n",
    "if num > 1:\n",
    "    # Iterate from 2 to n // 2\n",
    "    for i in range(2, num+1):\n",
    "        # If num is divisible by any number between\n",
    "        # 2 and n / 2, it is not prime\n",
    "        if (num % i) == 0:\n",
    "            print(num, \"is not a prime number\")\n",
    "            break\n",
    "    else:\n",
    "        print(num, \"is a prime number\")\n",
    "else:\n",
    "    print(num, \"is not a prime number\")"
   ]
  },
  {
   "cell_type": "code",
   "execution_count": 34,
   "id": "a6971a56-5fed-4496-a6ea-185e8594d4a6",
   "metadata": {},
   "outputs": [
    {
     "name": "stdout",
     "output_type": "stream",
     "text": [
      "2\n",
      "3\n",
      "4\n",
      "5\n",
      "6\n",
      "7\n",
      "8\n"
     ]
    }
   ],
   "source": [
    "n = 8\n",
    "for i in range(2, n+1) :\n",
    "    print(i)"
   ]
  },
  {
   "cell_type": "code",
   "execution_count": 49,
   "id": "a6b1af09-c3fc-4ee9-bbcc-9586576d8965",
   "metadata": {},
   "outputs": [
    {
     "data": {
      "text/plain": [
       "6"
      ]
     },
     "execution_count": 49,
     "metadata": {},
     "output_type": "execute_result"
    }
   ],
   "source": [
    "11//2+1"
   ]
  },
  {
   "cell_type": "markdown",
   "id": "7e90401e-68df-41cd-b663-ddab2ce3a5fe",
   "metadata": {},
   "source": [
    "## Recursive way"
   ]
  },
  {
   "cell_type": "code",
   "execution_count": 54,
   "id": "f3eb8f9a-4afb-41a8-ab2e-8540e5187fe0",
   "metadata": {},
   "outputs": [
    {
     "name": "stdin",
     "output_type": "stream",
     "text": [
      "input please 6\n"
     ]
    },
    {
     "name": "stdout",
     "output_type": "stream",
     "text": [
      "False\n"
     ]
    }
   ],
   "source": [
    "from math import sqrt\n",
    "\n",
    "def Prime(number,itr):  #prime function to check given number prime or not\n",
    "  if itr == 1:   #base condition\n",
    "    return True\n",
    "  if number % itr == 0:  #if given number divided by itr or not\n",
    "    return False\n",
    "  if Prime(number,itr-1) == False:   #Recursive function Call\n",
    "    return False \n",
    "    \n",
    "  return True\n",
    " \n",
    "num = int(input(\"input please\"))\n",
    "\n",
    "itr = int(sqrt(num)+1)\n",
    "\n",
    "print(Prime(num,itr))"
   ]
  },
  {
   "cell_type": "code",
   "execution_count": null,
   "id": "9284aabe-43a3-4ff0-afb4-80cb70badb06",
   "metadata": {},
   "outputs": [],
   "source": []
  }
 ],
 "metadata": {
  "kernelspec": {
   "display_name": "Python 3 (ipykernel)",
   "language": "python",
   "name": "python3"
  },
  "language_info": {
   "codemirror_mode": {
    "name": "ipython",
    "version": 3
   },
   "file_extension": ".py",
   "mimetype": "text/x-python",
   "name": "python",
   "nbconvert_exporter": "python",
   "pygments_lexer": "ipython3",
   "version": "3.11.7"
  }
 },
 "nbformat": 4,
 "nbformat_minor": 5
}
