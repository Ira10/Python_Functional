{
 "cells": [
  {
   "cell_type": "markdown",
   "id": "303e5ebd-b288-4a9f-b6eb-368257297c44",
   "metadata": {},
   "source": [
    "Robot Cheerleaders"
   ]
  },
  {
   "cell_type": "code",
   "execution_count": 5,
   "id": "5de277ae-63d6-4f76-8f9c-91745477ff7f",
   "metadata": {},
   "outputs": [
    {
     "name": "stdin",
     "output_type": "stream",
     "text": [
      "I will cheer for you! Enter a word  pineapple\n",
      "Enter enthu level bruh  9\n"
     ]
    },
    {
     "name": "stdout",
     "output_type": "stream",
     "text": [
      "Give me an p+ p\n",
      "Give me an i+  i\n",
      "Give me an n+  n\n",
      "Give me an e+  e\n",
      "Give me an a+  a\n",
      "Give me an p+ p\n",
      "Give me an p+ p\n",
      "Give me an l+  l\n",
      "Give me an e+  e\n",
      "What's the spell?\n",
      "pineapple !!!\n",
      "pineapple !!!\n",
      "pineapple !!!\n",
      "pineapple !!!\n",
      "pineapple !!!\n",
      "pineapple !!!\n",
      "pineapple !!!\n",
      "pineapple !!!\n",
      "pineapple !!!\n"
     ]
    }
   ],
   "source": [
    "an_letters = \"aefhilmnorsxAEFHILMNORSX\"\n",
    "\n",
    "word = input(\"I will cheer for you! Enter a word \")\n",
    "times = int(input(\"Enter enthu level bruh \"))\n",
    "\n",
    "for c in word:\n",
    "    if c in an_letters:\n",
    "        print(f'Give me an {c}+  {c}')\n",
    "    else:\n",
    "        print(f'Give me an {c}+ {c}')\n",
    "print(\"What's the spell?\")\n",
    "for i in range(times):\n",
    "    print(word,'!!!')"
   ]
  },
  {
   "cell_type": "code",
   "execution_count": 9,
   "id": "bfb51f41-06c5-42ce-bd23-5edecbeab6eb",
   "metadata": {},
   "outputs": [
    {
     "name": "stdin",
     "output_type": "stream",
     "text": [
      "I will cheer for you! Enter a word  dog\n",
      "Enter enthu level bruh  2\n"
     ]
    },
    {
     "name": "stdout",
     "output_type": "stream",
     "text": [
      "Give me an d : d\n",
      "Give me an o :   o\n",
      "Give me an g : g\n",
      "What's the spell?\n",
      "dog !!!\n",
      "dog !!!\n"
     ]
    }
   ],
   "source": [
    "an_letters = \"aefhilmnorsxAEFHILMNORSX\"\n",
    "\n",
    "word = input(\"I will cheer for you! Enter a word \")\n",
    "times = int(input(\"Enter enthu level bruh \"))\n",
    "\n",
    "for c in word:\n",
    "    if c in an_letters:\n",
    "        print(f'Give me an {c} :   {c}')\n",
    "    else:\n",
    "        print(f'Give me an {c} : {c}')\n",
    "        \n",
    "print(\"What's the spell?\")\n",
    "for i in range(times):\n",
    "    print(word,'!!!')"
   ]
  },
  {
   "cell_type": "markdown",
   "id": "f7a90704-cc4d-4cd4-bdd2-558a94cba2f2",
   "metadata": {},
   "source": [
    "### Assume you are given a string of lowercase letters in variable s. Count how many unique letters there are in the string. \n",
    "\n",
    "For example, if\n",
    "\n",
    "s = 'abca'\n",
    "Then code prints 3.\n",
    "\n",
    "\n",
    "*** Hint ***\n",
    "1. Go through each character in s.\n",
    "2. Keep track of ones you have seen in the sring variable.\n",
    "3. add characters from s to the seen string variable if they are not already a character in the seen variable."
   ]
  },
  {
   "cell_type": "code",
   "execution_count": 16,
   "id": "c13795b3-2f9e-421e-abad-d57a16d1d884",
   "metadata": {},
   "outputs": [
    {
     "name": "stdin",
     "output_type": "stream",
     "text": [
      "Enter the string uhuh\n"
     ]
    },
    {
     "name": "stdout",
     "output_type": "stream",
     "text": [
      "0\n",
      "1\n",
      "2\n",
      "3\n"
     ]
    }
   ],
   "source": [
    "seen = str()\n",
    "\n",
    "string_ = input(\"Enter the string\")\n",
    "for char in range(len(string_)):\n",
    "    print(char)\n",
    "#     seen = char + seen\n",
    "# print(seen)"
   ]
  },
  {
   "cell_type": "code",
   "execution_count": 22,
   "id": "75e418ab-3ce7-423a-846e-4b95f311cfd6",
   "metadata": {},
   "outputs": [
    {
     "name": "stdin",
     "output_type": "stream",
     "text": [
      "Enter the string:  bruh\n"
     ]
    },
    {
     "name": "stdout",
     "output_type": "stream",
     "text": [
      "b\n",
      "r\n",
      "u\n",
      "h\n"
     ]
    }
   ],
   "source": [
    "seen = str()\n",
    "\n",
    "string_ = input(\"Enter the string: \")\n",
    "for char in range(len(string_)):\n",
    "    print(string_[char])\n",
    "#     seen = seen + string_[char] \n",
    "# print(seen)"
   ]
  },
  {
   "cell_type": "code",
   "execution_count": 24,
   "id": "5878b02d-18ee-49ab-9688-9ce09410d71c",
   "metadata": {},
   "outputs": [
    {
     "name": "stdin",
     "output_type": "stream",
     "text": [
      "Enter the string:  abba\n"
     ]
    },
    {
     "name": "stdout",
     "output_type": "stream",
     "text": [
      "4\n"
     ]
    }
   ],
   "source": [
    "seen = str()\n",
    "\n",
    "string_ = input(\"Enter the string: \")\n",
    "for char in range(len(string_)):\n",
    "    if string_[char] in seen == True:\n",
    "        break\n",
    "    else:\n",
    "        seen = seen + string_[char] \n",
    "print(len(seen))\n",
    "### Not working"
   ]
  },
  {
   "cell_type": "markdown",
   "id": "83ed7490-df21-417a-98f1-8c9d2e3c12fe",
   "metadata": {},
   "source": [
    "#### My trial"
   ]
  },
  {
   "cell_type": "code",
   "execution_count": 7,
   "id": "115bb344-6de5-4008-8863-5e666daa2f5d",
   "metadata": {},
   "outputs": [
    {
     "name": "stdin",
     "output_type": "stream",
     "text": [
      "Enter the string:  abba\n"
     ]
    },
    {
     "name": "stdout",
     "output_type": "stream",
     "text": [
      "0\n"
     ]
    }
   ],
   "source": [
    "seen = str()\n",
    "\n",
    "string_ = input(\"Enter the string: \")\n",
    "for char in range(len(string_)):\n",
    "    if string_[char] in seen == False:\n",
    "        seen = seen + string_[char] \n",
    "print(len(seen))"
   ]
  },
  {
   "cell_type": "code",
   "execution_count": 6,
   "id": "1b6fa5b2-1a56-4f04-99e2-6ae5e3b04685",
   "metadata": {},
   "outputs": [
    {
     "name": "stdin",
     "output_type": "stream",
     "text": [
      "Enter the string:  abba\n"
     ]
    },
    {
     "name": "stdout",
     "output_type": "stream",
     "text": [
      "2\n"
     ]
    }
   ],
   "source": [
    "seen = set()\n",
    "\n",
    "string_ = input(\"Enter the string: \")\n",
    "for char in string_:\n",
    "    if char not in seen:\n",
    "        seen.add(char)\n",
    "\n",
    "print(len(seen))"
   ]
  },
  {
   "cell_type": "markdown",
   "id": "64904371-c1f8-4562-8770-6d66fdf925e4",
   "metadata": {},
   "source": [
    "#### my code, with chatgpt's help, no need to use true or false, not in helped"
   ]
  },
  {
   "cell_type": "code",
   "execution_count": 8,
   "id": "5916e09f-3a0a-4be5-8294-5fb3b2db1454",
   "metadata": {},
   "outputs": [
    {
     "name": "stdin",
     "output_type": "stream",
     "text": [
      "Enter the string:  abba\n"
     ]
    },
    {
     "name": "stdout",
     "output_type": "stream",
     "text": [
      "2\n"
     ]
    }
   ],
   "source": [
    "seen = str()\n",
    "\n",
    "string_ = input(\"Enter the string: \")\n",
    "for char in range(len(string_)):\n",
    "    if string_[char] not in seen:\n",
    "        seen = seen + string_[char] \n",
    "print(len(seen))"
   ]
  },
  {
   "cell_type": "markdown",
   "id": "aa5e224b-5afe-434a-ac7a-b191542897ea",
   "metadata": {},
   "source": [
    "In the above code, I used this 'range(len(string_))' because I needed to add to string, and it was not adding, below I used the character to directly add, by declaring set."
   ]
  },
  {
   "cell_type": "code",
   "execution_count": 14,
   "id": "36a9ea18-6c8e-4ad4-a5d2-53f8890236b2",
   "metadata": {},
   "outputs": [
    {
     "name": "stdin",
     "output_type": "stream",
     "text": [
      "Enter the string:  abba\n"
     ]
    },
    {
     "name": "stdout",
     "output_type": "stream",
     "text": [
      "2\n"
     ]
    }
   ],
   "source": [
    "seen = set()\n",
    "\n",
    "string_ = input(\"Enter the string: \")\n",
    "for char in string_:\n",
    "    if char not in seen:\n",
    "        # seen = seen + char\n",
    "        seen.add(char)\n",
    "print(len(seen))"
   ]
  },
  {
   "cell_type": "markdown",
   "id": "aaebb47d-db20-4974-a790-09bac60442b1",
   "metadata": {},
   "source": [
    "#### MIT solution"
   ]
  },
  {
   "cell_type": "code",
   "execution_count": 16,
   "id": "93c1db60-2f11-46ef-bf27-43564bcab01d",
   "metadata": {},
   "outputs": [
    {
     "name": "stdout",
     "output_type": "stream",
     "text": [
      "4\n"
     ]
    }
   ],
   "source": [
    "s = 'aaaabbdddccccbca'\n",
    "seen = ''\n",
    "count = 0\n",
    "\n",
    "for char in s:\n",
    "    if char not in seen :\n",
    "        seen = seen +  char\n",
    "        count += 1\n",
    "\n",
    "print(count)"
   ]
  },
  {
   "cell_type": "code",
   "execution_count": 17,
   "id": "357623f0-7bf2-4e2a-9690-d41836c94526",
   "metadata": {},
   "outputs": [
    {
     "name": "stdout",
     "output_type": "stream",
     "text": [
      "4\n"
     ]
    }
   ],
   "source": [
    "s = 'aaaabbdddccccbca'\n",
    "seen = ''\n",
    "count = 0\n",
    "\n",
    "for char in s:\n",
    "    if char not in seen :\n",
    "        seen = seen +  char\n",
    "        count += 1\n",
    "    else:\n",
    "        pass\n",
    "print(count)"
   ]
  }
 ],
 "metadata": {
  "kernelspec": {
   "display_name": "Python 3 (ipykernel)",
   "language": "python",
   "name": "python3"
  },
  "language_info": {
   "codemirror_mode": {
    "name": "ipython",
    "version": 3
   },
   "file_extension": ".py",
   "mimetype": "text/x-python",
   "name": "python",
   "nbconvert_exporter": "python",
   "pygments_lexer": "ipython3",
   "version": "3.11.7"
  }
 },
 "nbformat": 4,
 "nbformat_minor": 5
}
